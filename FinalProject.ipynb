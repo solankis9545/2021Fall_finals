{
 "cells": [
  {
   "cell_type": "markdown",
   "id": "eb9fe719",
   "metadata": {},
   "source": [
    "Instead of performing our final project using PyCharm, we have used jupyter notebook to write functions and further analyze our hypothesis."
   ]
  },
  {
   "cell_type": "markdown",
   "id": "4099e1c3",
   "metadata": {},
   "source": [
    "Importing necessary libraries"
   ]
  },
  {
   "cell_type": "code",
   "execution_count": 1,
   "id": "355d7f72",
   "metadata": {},
   "outputs": [],
   "source": [
    "import pandas as pd\n",
    "import seaborn as sn\n",
    "import matplotlib.pyplot as plt\n",
    "import numpy as np"
   ]
  },
  {
   "cell_type": "markdown",
   "id": "10efadbe",
   "metadata": {},
   "source": [
    "As we go through our code, we store our tables into dataframes as and when required instead of loading those all at once."
   ]
  },
  {
   "cell_type": "code",
   "execution_count": 2,
   "id": "06ade0bc",
   "metadata": {},
   "outputs": [],
   "source": [
    "match_details = pd.read_csv('Match.csv')"
   ]
  },
  {
   "cell_type": "markdown",
   "id": "58a04853",
   "metadata": {},
   "source": [
    "Checking for null or NaN values within the given table."
   ]
  },
  {
   "cell_type": "code",
   "execution_count": 3,
   "id": "124d2261",
   "metadata": {},
   "outputs": [
    {
     "data": {
      "text/plain": [
       "True"
      ]
     },
     "execution_count": 3,
     "metadata": {},
     "output_type": "execute_result"
    }
   ],
   "source": [
    "match_details.isnull().values.any()"
   ]
  },
  {
   "cell_type": "code",
   "execution_count": 4,
   "id": "b1a9cfc5",
   "metadata": {},
   "outputs": [
    {
     "data": {
      "text/plain": [
       "True"
      ]
     },
     "execution_count": 4,
     "metadata": {},
     "output_type": "execute_result"
    }
   ],
   "source": [
    "match_details.isna().values.any()"
   ]
  },
  {
   "cell_type": "markdown",
   "id": "bfe0a1a2",
   "metadata": {},
   "source": [
    "After checking for null or NaN values, we find that some of the columns do contain null or NaN values, but there might be multiple possibilities for those to be in such a way, these include:\n",
    "1. Match being cancelled due to rain or any such natural calamity\n",
    "2. Tied match between two teams might have match_winner to be null\n",
    "3. Similarly, Win_Type might have such null values in case of a drawn or cancelled match\n",
    "\n",
    "For now, we do drop some of those from the columns that we might be using for our further analysis."
   ]
  },
  {
   "cell_type": "code",
   "execution_count": 5,
   "id": "2fcea2f4",
   "metadata": {},
   "outputs": [],
   "source": [
    "match_details = match_details.dropna(subset=['Toss_Winner', 'match_winner'])"
   ]
  },
  {
   "cell_type": "markdown",
   "id": "e3ebb74a",
   "metadata": {},
   "source": [
    "Function below calculates total matches won by the team who have won the toss and vice versa."
   ]
  },
  {
   "cell_type": "code",
   "execution_count": 6,
   "id": "89dbc25a",
   "metadata": {},
   "outputs": [],
   "source": [
    "def match_results():\n",
    "    won = 0\n",
    "    for index, row in match_details.iterrows():\n",
    "        if row['Toss_Winner'] == row['match_winner']:\n",
    "            won += 1\n",
    "    \n",
    "    loss = len(match_details) - won\n",
    "    return won, loss"
   ]
  },
  {
   "cell_type": "code",
   "execution_count": 7,
   "id": "5deae30d",
   "metadata": {},
   "outputs": [],
   "source": [
    "won, loss = match_results()"
   ]
  },
  {
   "cell_type": "code",
   "execution_count": 8,
   "id": "37c21b20",
   "metadata": {},
   "outputs": [],
   "source": [
    "hypo_1 = pd.DataFrame({'Match results': ['Won', 'Lost'], 'No. of matches': [won, loss]})"
   ]
  },
  {
   "cell_type": "markdown",
   "id": "78494bfc",
   "metadata": {},
   "source": [
    "## Hypothesis 1: Event of winning the toss is positively correlated with the event of a team winning the game"
   ]
  },
  {
   "cell_type": "code",
   "execution_count": 9,
   "id": "384711bd",
   "metadata": {},
   "outputs": [
    {
     "data": {
      "image/png": "[encoded data removed]",
      "text/plain": [
       "<Figure size 432x288 with 1 Axes>"
      ]
     },
     "metadata": {
      "needs_background": "light"
     },
     "output_type": "display_data"
    }
   ],
   "source": [
    "plt.bar(hypo_1['Match results'], height=hypo_1['No. of matches'])\n",
    "plt.xlabel('Match results')\n",
    "plt.ylabel('No. of matches')\n",
    "plt.title('Match results with respect to toss outcome')\n",
    "plt.show()"
   ]
  },
  {
   "cell_type": "markdown",
   "id": "5b73b194",
   "metadata": {},
   "source": [
    "### From the given plot we can see that the bar \"Won\" which depicts the number of times team has won the match after winning the toss is similar to the bar \"Lost\" which depicts the number of times team has won the match after lossing the toss. Hence, we see that there is no such trend and hence we reject the hypothesis."
   ]
  },
  {
   "cell_type": "markdown",
   "id": "6eb3395f",
   "metadata": {},
   "source": [
    "Below we read another table from our dataset named Ball_by_Ball"
   ]
  },
  {
   "cell_type": "code",
   "execution_count": null,
   "id": "5dd4fac0",
   "metadata": {},
   "outputs": [],
   "source": [
    "overs_details = pd.read_csv('Ball_By_Ball.csv')"
   ]
  },
  {
   "cell_type": "markdown",
   "id": "c1e7b9e3",
   "metadata": {},
   "source": [
    "Death overs refer to over numbers from 17 through 20 which are considered to be very crucial for the entire game and hence, we apply the below given condition."
   ]
  },
  {
   "cell_type": "code",
   "execution_count": null,
   "id": "395657b4",
   "metadata": {},
   "outputs": [],
   "source": [
    "over_details_death = overs_details[overs_details['Over_id']>16]"
   ]
  },
  {
   "cell_type": "markdown",
   "id": "c1de6308",
   "metadata": {},
   "source": [
    "Next, we read the player table which we need to check our next hypothesis."
   ]
  },
  {
   "cell_type": "code",
   "execution_count": null,
   "id": "2022f325",
   "metadata": {},
   "outputs": [],
   "source": [
    "player = pd.read_csv('Player.csv', encoding= 'unicode_escape')"
   ]
  },
  {
   "cell_type": "markdown",
   "id": "e34c344c",
   "metadata": {},
   "source": [
    "Creating two different dataframes from the above table, one which consists of fast bolwers and the other which is for spinners. Further, we merge and create a pivot table for the same."
   ]
  },
  {
   "cell_type": "code",
   "execution_count": null,
   "id": "c68616d7",
   "metadata": {},
   "outputs": [],
   "source": [
    "fast_bowlers = player[(player['Bowling_skill']=='Right-arm medium')|(player['Bowling_skill']=='Right-arm fast-medium')|(player['Bowling_skill']=='Right-arm medium-fast')|(player['Bowling_skill']=='Left-arm fast-medium')|(player['Bowling_skill']=='Left-arm medium-fast')|(player['Bowling_skill']=='Right-arm fast')|(player['Bowling_skill']=='Left-arm fast')|(player['Bowling_skill']=='Left-arm medium')|(player['Bowling_skill']=='Right-arm medium fast')|(player['Bowling_skill']=='\\xa0Right-arm fast-medium')|(player['Bowling_skill']=='\\xa0Right-arm medium-fast')|(player['Bowling_skill']=='\\xa0Left-arm fast')]"
   ]
  },
  {
   "cell_type": "code",
   "execution_count": null,
   "id": "fe7fe9d5",
   "metadata": {},
   "outputs": [],
   "source": [
    "slow_bowlers = player[(player['Bowling_skill']=='Right-arm offbreak')|(player['Bowling_skill']=='Legbreak googly')|(player['Bowling_skill']=='Slow left-arm orthodox')|(player['Bowling_skill']=='Slow left-arm chinaman')|(player['Bowling_skill']=='Legbreak')|(player['Bowling_skill']=='Right-arm bowler')|(player['Bowling_skill']=='\\xa0Legbreak')|(player['Bowling_skill']=='\\xa0Right-arm offbreak')]"
   ]
  },
  {
   "cell_type": "code",
   "execution_count": null,
   "id": "ca806065",
   "metadata": {},
   "outputs": [],
   "source": [
    "fast_data = pd.merge(over_details_death, fast_bowlers, how = 'inner', left_on=['BOWLER_SK'], right_on=['PLAYER_SK'])"
   ]
  },
  {
   "cell_type": "code",
   "execution_count": null,
   "id": "58bb3f36",
   "metadata": {},
   "outputs": [],
   "source": [
    "slow_data = pd.merge(over_details_death, slow_bowlers, how = 'inner', left_on=['BOWLER_SK'], right_on=['PLAYER_SK'])"
   ]
  },
  {
   "cell_type": "code",
   "execution_count": null,
   "id": "e05d2cba",
   "metadata": {},
   "outputs": [],
   "source": [
    "fast_pivot = pd.pivot_table(fast_data, index = ['MatcH_id', 'Innings_No'], columns = 'Over_id', values = 'Runs_Scored', aggfunc = 'sum', fill_value=0)"
   ]
  },
  {
   "cell_type": "code",
   "execution_count": null,
   "id": "aa3bc315",
   "metadata": {},
   "outputs": [],
   "source": [
    "slow_pivot = pd.pivot_table(slow_data, index = ['MatcH_id', 'Innings_No'], columns = 'Over_id', values = 'Runs_Scored', aggfunc = 'sum', fill_value=0)"
   ]
  },
  {
   "cell_type": "code",
   "execution_count": null,
   "id": "28d32f8c",
   "metadata": {},
   "outputs": [],
   "source": [
    "def economy_rate(data_pivot):    \n",
    "    total_overs = 0\n",
    "    total_runs = 0\n",
    "    for i in range(0, len(data_pivot)):\n",
    "        for j in data_pivot.values[i]:\n",
    "            total_runs = total_runs + j\n",
    "            if j != 0:\n",
    "                total_overs += 1\n",
    "    economy = total_runs/total_overs\n",
    "    return economy"
   ]
  },
  {
   "cell_type": "code",
   "execution_count": null,
   "id": "7a82f56f",
   "metadata": {},
   "outputs": [],
   "source": [
    "fast_economy = economy_rate(fast_pivot)"
   ]
  },
  {
   "cell_type": "code",
   "execution_count": null,
   "id": "503f32c1",
   "metadata": {},
   "outputs": [],
   "source": [
    "slow_economy = economy_rate(slow_pivot)"
   ]
  },
  {
   "cell_type": "code",
   "execution_count": null,
   "id": "3d1d3d41",
   "metadata": {},
   "outputs": [],
   "source": [
    "hypo_1 = pd.DataFrame({'Bowler type': ['Fast', 'Slow'], 'Economy': [fast_economy, slow_economy]})"
   ]
  },
  {
   "cell_type": "markdown",
   "id": "14100685",
   "metadata": {},
   "source": [
    "## Hypothesis 2: Fast bowlers are more effective than spinners during death overs. (Death over – Last 4 overs of the innings)"
   ]
  },
  {
   "cell_type": "markdown",
   "id": "a4b4815d",
   "metadata": {},
   "source": [
    "Note: Here we are assuming that the last 4 overs of the innings are overs 17-20."
   ]
  },
  {
   "cell_type": "code",
   "execution_count": null,
   "id": "410126d2",
   "metadata": {
    "scrolled": true
   },
   "outputs": [],
   "source": [
    "plt.bar(hypo_1['Bowler type'], height=hypo_1['Economy'])\n",
    "plt.xlabel('Type of Bowler')\n",
    "plt.ylabel('Economy rate')\n",
    "plt.title('Economy rates with respect to the type of bowler')\n",
    "plt.show()\n",
    "print(\"The economy rate of fast bowlers is {} and that for spinners is {}\".format(fast_economy, slow_economy))"
   ]
  },
  {
   "cell_type": "markdown",
   "id": "5ab3d398",
   "metadata": {},
   "source": [
    "### Here we can see that fast bowlers have a higher economy rate as compared to spinners, hence we reject the hypothesis as spinners which have a lower economy rate are more effective. Hence, from the above graph we can see that spinners are more effective as compared to fast bowlers during death overs."
   ]
  },
  {
   "cell_type": "code",
   "execution_count": null,
   "id": "718ac3e0",
   "metadata": {},
   "outputs": [],
   "source": []
  }
 ],
 "metadata": {
  "kernelspec": {
   "display_name": "Python 3 (ipykernel)",
   "language": "python",
   "name": "python3"
  },
  "language_info": {
   "codemirror_mode": {
    "name": "ipython",
    "version": 3
   },
   "file_extension": ".py",
   "mimetype": "text/x-python",
   "name": "python",
   "nbconvert_exporter": "python",
   "pygments_lexer": "ipython3",
   "version": "3.7.10"
  }
 },
 "nbformat": 4,
 "nbformat_minor": 5
}
