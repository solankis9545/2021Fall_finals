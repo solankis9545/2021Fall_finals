{
 "cells": [
  {
   "cell_type": "markdown",
   "id": "467f20e6",
   "metadata": {},
   "source": [
    "# FINAL PROJECT"
   ]
  },
  {
   "cell_type": "code",
   "execution_count": 1,
   "id": "4f21194c",
   "metadata": {},
   "outputs": [],
   "source": [
    "import pandas as pd\n",
    "import seaborn as sn\n",
    "import matplotlib.pyplot as plt\n",
    "import numpy as np"
   ]
  },
  {
   "cell_type": "code",
   "execution_count": 2,
   "id": "f6afceca",
   "metadata": {},
   "outputs": [],
   "source": [
    "match_details = pd.read_csv('Match.csv')\n",
    "match_details = match_details.dropna(subset=['Toss_Winner', 'match_winner'])\n",
    "\n",
    "overs_details = pd.read_csv('Ball_By_Ball.csv')\n",
    "over_details_death = overs_details[overs_details['Over_id'] > 16]\n",
    "\n",
    "player = pd.read_csv('Player.csv', encoding='unicode_escape')\n",
    "\n",
    "team_details = pd.read_csv('Team.csv', encoding='unicode_escape')\n",
    "\n",
    "players_age = pd.read_csv('Player_match.csv', encoding='unicode_escape')\n",
    "\n",
    "winners = pd.read_csv('Winners.csv')"
   ]
  },
  {
   "cell_type": "markdown",
   "id": "a9bf8bc1",
   "metadata": {},
   "source": [
    "## Hypothesis 1: Event of winning the toss is positively correlated with the event of a team winning the game"
   ]
  },
  {
   "cell_type": "code",
   "execution_count": 3,
   "id": "b4805f22",
   "metadata": {},
   "outputs": [],
   "source": [
    "def match_results(df):\n",
    "    \"\"\"\n",
    "    This function return number of wins and loses of the team that won the toss at the beginning of match.\n",
    "    :param df: the dataframe that contains 'toss_winner' and 'match_winner' columns\n",
    "    :return: a tuple containing number of wins and losses of team winning the toss\n",
    "\n",
    "    >>> print(match_results(match_details))\n",
    "    (324, 309)\n",
    "    \"\"\"\n",
    "    won = 0\n",
    "    for index, row in df.iterrows():\n",
    "        if row['Toss_Winner'] == row['match_winner']:\n",
    "            won += 1\n",
    "\n",
    "    loss = len(match_details) - won\n",
    "    return won, loss"
   ]
  },
  {
   "cell_type": "code",
   "execution_count": 4,
   "id": "4c690153",
   "metadata": {},
   "outputs": [
    {
     "data": {
      "text/plain": [
       "(324, 309)"
      ]
     },
     "execution_count": 4,
     "metadata": {},
     "output_type": "execute_result"
    }
   ],
   "source": [
    "match_results(match_details)"
   ]
  },
  {
   "cell_type": "code",
   "execution_count": 5,
   "id": "f13fd137",
   "metadata": {},
   "outputs": [],
   "source": [
    "def bar_plot1(value1, value2, x_axis, y_axis, title):\n",
    "    \"\"\"\n",
    "    This function creates a bar plot after creating a dataframe with the values stored.\n",
    "    :param value1: the label of the first bar\n",
    "    :param value2: the label of the second bar\n",
    "    :param x_axis: the x-axis label\n",
    "    :param y_axis: the y-axis label\n",
    "    :param title: the title of the plot\n",
    "    :return: a plot with the entered parameters\n",
    "    \"\"\"\n",
    "    df_temp = pd.DataFrame({x_axis: [value1, value2], y_axis: match_results(match_details)})\n",
    "    plt.bar(df_temp[x_axis], height=df_temp[y_axis])\n",
    "    plt.xlabel(x_axis)\n",
    "    plt.ylabel(y_axis)\n",
    "    plt.title(title)\n",
    "    plt.show()"
   ]
  },
  {
   "cell_type": "code",
   "execution_count": 6,
   "id": "572ce215",
   "metadata": {},
   "outputs": [
    {
     "data": {
      "image/png": "[encoded data removed]",
      "text/plain": [
       "<Figure size 432x288 with 1 Axes>"
      ]
     },
     "metadata": {
      "needs_background": "light"
     },
     "output_type": "display_data"
    }
   ],
   "source": [
    "bar_plot1('won', 'lost', 'Match results', 'No. of matches', 'Match results with respect to toss outcome')"
   ]
  },
  {
   "cell_type": "markdown",
   "id": "ac0cfcf4",
   "metadata": {},
   "source": [
    "### Conclusion:\n",
    "From the given plot we can see that the bar \"Won\" which depicts the number of times team has won the match after winning the toss is similar to the bar \"Lost\" which depicts the number of times team has won the match after lossing the toss. Hence, we see that there is no such trend and hence we reject the hypothesis."
   ]
  },
  {
   "cell_type": "markdown",
   "id": "c0ef9691",
   "metadata": {},
   "source": [
    "## Hypothesis 2: Fast bowlers are more effective than spinners during death overs. (Death over – Last 4 overs of the innings)"
   ]
  },
  {
   "cell_type": "code",
   "execution_count": 7,
   "id": "1d9511ab",
   "metadata": {},
   "outputs": [],
   "source": [
    "fast_bowlers = player[(player['Bowling_skill']=='Right-arm medium')|(player['Bowling_skill']=='Right-arm fast-medium')|(player['Bowling_skill']=='Right-arm medium-fast')|(player['Bowling_skill']=='Left-arm fast-medium')|(player['Bowling_skill']=='Left-arm medium-fast')|(player['Bowling_skill']=='Right-arm fast')|(player['Bowling_skill']=='Left-arm fast')|(player['Bowling_skill']=='Left-arm medium')|(player['Bowling_skill']=='Right-arm medium fast')|(player['Bowling_skill']=='\\xa0Right-arm fast-medium')|(player['Bowling_skill']=='\\xa0Right-arm medium-fast')|(player['Bowling_skill']=='\\xa0Left-arm fast')]"
   ]
  },
  {
   "cell_type": "code",
   "execution_count": 8,
   "id": "2e437b39",
   "metadata": {},
   "outputs": [],
   "source": [
    "slow_bowlers = player[(player['Bowling_skill']=='Right-arm offbreak')|(player['Bowling_skill']=='Legbreak googly')|(player['Bowling_skill']=='Slow left-arm orthodox')|(player['Bowling_skill']=='Slow left-arm chinaman')|(player['Bowling_skill']=='Legbreak')|(player['Bowling_skill']=='Right-arm bowler')|(player['Bowling_skill']=='\\xa0Legbreak')|(player['Bowling_skill']=='\\xa0Right-arm offbreak')]"
   ]
  },
  {
   "cell_type": "code",
   "execution_count": 9,
   "id": "f2d6a048",
   "metadata": {},
   "outputs": [],
   "source": [
    "def economy_rate(bowlers):\n",
    "    \"\"\"\n",
    "    This function will return the economy rate of bowlers data passed through function.\n",
    "    :param bowlers: it is a subset of the 'players' dataframe containing specific bowling players\n",
    "    :return: a float value which represents economy rate of set of players passed initially\n",
    "\n",
    "    >>> print(economy_rate(fast_bowlers))\n",
    "    9.292946530147896\n",
    "    \"\"\"\n",
    "    merged_data = pd.merge(over_details_death, bowlers, how='inner', left_on=['BOWLER_SK'], right_on=['PLAYER_SK'])\n",
    "    pivot_data = pd.pivot_table(merged_data, index=['MatcH_id', 'Innings_No'], columns='Over_id', values='Runs_Scored',\n",
    "                                aggfunc='sum', fill_value=0)\n",
    "    total_overs = 0\n",
    "    total_runs = 0\n",
    "    for i in range(0, len(pivot_data)):\n",
    "        for j in pivot_data.values[i]:\n",
    "            total_runs = total_runs + j\n",
    "            if j != 0:\n",
    "                total_overs += 1\n",
    "    economy = total_runs / total_overs\n",
    "    return economy"
   ]
  },
  {
   "cell_type": "code",
   "execution_count": 10,
   "id": "ab71ffea",
   "metadata": {},
   "outputs": [],
   "source": [
    "def bar_plot2(value1, value2, x_axis, y_axis, title):\n",
    "    \"\"\"\n",
    "    This function creates a bar plot after creating a dataframe with the values stored.\n",
    "    :param value1: the label of the first bar\n",
    "    :param value2: the label of the second bar\n",
    "    :param x_axis: the x-axis label\n",
    "    :param y_axis: the y-axis label\n",
    "    :param title: the title of the plot\n",
    "    :return: a plot with the entered parameters\n",
    "    \"\"\"\n",
    "    df_temp = pd.DataFrame({x_axis: [value1, value2], y_axis: [economy_rate(fast_bowlers), economy_rate(slow_bowlers)]})\n",
    "    plt.bar(df_temp[x_axis], height=df_temp[y_axis])\n",
    "    plt.xlabel(x_axis)\n",
    "    plt.ylabel(y_axis)\n",
    "    plt.title(title)\n",
    "    plt.show()"
   ]
  },
  {
   "cell_type": "code",
   "execution_count": 11,
   "id": "f3381b80",
   "metadata": {},
   "outputs": [
    {
     "data": {
      "image/png": "[encoded data removed]",
      "text/plain": [
       "<Figure size 432x288 with 1 Axes>"
      ]
     },
     "metadata": {
      "needs_background": "light"
     },
     "output_type": "display_data"
    },
    {
     "name": "stdout",
     "output_type": "stream",
     "text": [
      "The economy rate of fast bowlers is 9.292946530147896 and that for spinners is 8.75784190715182\n"
     ]
    }
   ],
   "source": [
    "bar_plot2('Fast', 'Slow', 'Bowler Type', 'Economy', 'Economy rates with respect to the type of bowler')\n",
    "print(\"The economy rate of fast bowlers is {} and that for spinners is {}\".format(economy_rate(fast_bowlers), economy_rate(slow_bowlers)))"
   ]
  },
  {
   "cell_type": "markdown",
   "id": "b783bebc",
   "metadata": {},
   "source": [
    "### Conclusion:\n",
    "Here we can see that fast bowlers have a higher economy rate as compared to spinners, hence we reject the hypothesis as spinners which have a lower economy rate are more effective. Hence, from the above graph we can see that spinners are more effective as compared to fast bowlers during death overs."
   ]
  },
  {
   "cell_type": "code",
   "execution_count": null,
   "id": "06c12e04",
   "metadata": {},
   "outputs": [],
   "source": []
  }
 ],
 "metadata": {
  "kernelspec": {
   "display_name": "Python 3",
   "language": "python",
   "name": "python3"
  },
  "language_info": {
   "codemirror_mode": {
    "name": "ipython",
    "version": 3
   },
   "file_extension": ".py",
   "mimetype": "text/x-python",
   "name": "python",
   "nbconvert_exporter": "python",
   "pygments_lexer": "ipython3",
   "version": "3.8.8"
  }
 },
 "nbformat": 4,
 "nbformat_minor": 5
}
