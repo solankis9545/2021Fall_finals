{
 "cells": [
  {
   "cell_type": "markdown",
   "id": "467f20e6",
   "metadata": {},
   "source": [
    "# FINAL PROJECT"
   ]
  },
  {
   "cell_type": "code",
   "execution_count": 1,
   "id": "4f21194c",
   "metadata": {},
   "outputs": [],
   "source": [
    "import pandas as pd\n",
    "import seaborn as sn\n",
    "import matplotlib.pyplot as plt\n",
    "import numpy as np"
   ]
  },
  {
   "cell_type": "code",
   "execution_count": 2,
   "id": "f6afceca",
   "metadata": {},
   "outputs": [],
   "source": [
    "match_details = pd.read_csv('Match.csv')\n",
    "match_details = match_details.dropna(subset=['Toss_Winner', 'match_winner'])\n",
    "\n",
    "overs_details = pd.read_csv('Ball_By_Ball.csv')\n",
    "over_details_death = overs_details[overs_details['Over_id'] > 16]\n",
    "\n",
    "player = pd.read_csv('Player.csv', encoding='unicode_escape')\n",
    "\n",
    "team_details = pd.read_csv('Team.csv', encoding='unicode_escape')\n",
    "\n",
    "players_age = pd.read_csv('Player_match.csv', encoding='unicode_escape')\n",
    "\n",
    "winners = pd.read_csv('Winners.csv')"
   ]
  },
  {
   "cell_type": "markdown",
   "id": "a9bf8bc1",
   "metadata": {},
   "source": [
    "## Hypothesis 1: Event of winning the toss is positively correlated with the event of a team winning the game"
   ]
  },
  {
   "cell_type": "code",
   "execution_count": 3,
   "id": "b4805f22",
   "metadata": {},
   "outputs": [],
   "source": [
    "def match_results(df):\n",
    "    \"\"\"\n",
    "    This function return number of wins and loses of the team that won the toss at the beginning of match.\n",
    "    :param df: the dataframe that contains 'toss_winner' and 'match_winner' columns\n",
    "    :return: a tuple containing number of wins and losses of team winning the toss\n",
    "\n",
    "    >>> print(match_results(match_details))\n",
    "    (324, 309)\n",
    "    \"\"\"\n",
    "    won = 0\n",
    "    for index, row in df.iterrows():\n",
    "        if row['Toss_Winner'] == row['match_winner']:\n",
    "            won += 1\n",
    "\n",
    "    loss = len(match_details) - won\n",
    "    return won, loss"
   ]
  },
  {
   "cell_type": "code",
   "execution_count": 4,
   "id": "4c690153",
   "metadata": {},
   "outputs": [
    {
     "data": {
      "text/plain": [
       "(324, 309)"
      ]
     },
     "execution_count": 4,
     "metadata": {},
     "output_type": "execute_result"
    }
   ],
   "source": [
    "match_results(match_details)"
   ]
  },
  {
   "cell_type": "code",
   "execution_count": 5,
   "id": "f13fd137",
   "metadata": {},
   "outputs": [],
   "source": [
    "def bar_plot1(value1, value2, x_axis, y_axis, title):\n",
    "    \"\"\"\n",
    "    This function creates a bar plot after creating a dataframe with the values stored.\n",
    "    :param value1: the label of the first bar\n",
    "    :param value2: the label of the second bar\n",
    "    :param x_axis: the x-axis label\n",
    "    :param y_axis: the y-axis label\n",
    "    :param title: the title of the plot\n",
    "    :return: a plot with the entered parameters\n",
    "    \"\"\"\n",
    "    df_temp = pd.DataFrame({x_axis: [value1, value2], y_axis: match_results(match_details)})\n",
    "    plt.bar(df_temp[x_axis], height=df_temp[y_axis])\n",
    "    plt.xlabel(x_axis)\n",
    "    plt.ylabel(y_axis)\n",
    "    plt.title(title)\n",
    "    plt.show()"
   ]
  },
  {
   "cell_type": "code",
   "execution_count": 6,
   "id": "572ce215",
   "metadata": {},
   "outputs": [
    {
     "data": {
      "image/png": "[encoded data removed]",
      "text/plain": [
       "<Figure size 432x288 with 1 Axes>"
      ]
     },
     "metadata": {
      "needs_background": "light"
     },
     "output_type": "display_data"
    }
   ],
   "source": [
    "bar_plot1('won', 'lost', 'Match results', 'No. of matches', 'Match results with respect to toss outcome')"
   ]
  },
  {
   "cell_type": "markdown",
   "id": "ac0cfcf4",
   "metadata": {},
   "source": [
    "### Conclusion:\n",
    "From the given plot we can see that the bar \"Won\" which depicts the number of times team has won the match after winning the toss is similar to the bar \"Lost\" which depicts the number of times team has won the match after lossing the toss. Hence, we see that there is no such trend and hence we reject the hypothesis."
   ]
  },
  {
   "cell_type": "markdown",
   "id": "c0ef9691",
   "metadata": {},
   "source": [
    "## Hypothesis 2: Fast bowlers are more effective than spinners during death overs. (Death over – Last 4 overs of the innings)"
   ]
  },
  {
   "cell_type": "code",
   "execution_count": 7,
   "id": "1d9511ab",
   "metadata": {},
   "outputs": [],
   "source": [
    "fast_bowlers = player[(player['Bowling_skill']=='Right-arm medium')|(player['Bowling_skill']=='Right-arm fast-medium')|(player['Bowling_skill']=='Right-arm medium-fast')|(player['Bowling_skill']=='Left-arm fast-medium')|(player['Bowling_skill']=='Left-arm medium-fast')|(player['Bowling_skill']=='Right-arm fast')|(player['Bowling_skill']=='Left-arm fast')|(player['Bowling_skill']=='Left-arm medium')|(player['Bowling_skill']=='Right-arm medium fast')|(player['Bowling_skill']=='\\xa0Right-arm fast-medium')|(player['Bowling_skill']=='\\xa0Right-arm medium-fast')|(player['Bowling_skill']=='\\xa0Left-arm fast')]"
   ]
  },
  {
   "cell_type": "code",
   "execution_count": 8,
   "id": "2e437b39",
   "metadata": {},
   "outputs": [],
   "source": [
    "slow_bowlers = player[(player['Bowling_skill']=='Right-arm offbreak')|(player['Bowling_skill']=='Legbreak googly')|(player['Bowling_skill']=='Slow left-arm orthodox')|(player['Bowling_skill']=='Slow left-arm chinaman')|(player['Bowling_skill']=='Legbreak')|(player['Bowling_skill']=='Right-arm bowler')|(player['Bowling_skill']=='\\xa0Legbreak')|(player['Bowling_skill']=='\\xa0Right-arm offbreak')]"
   ]
  },
  {
   "cell_type": "code",
   "execution_count": 9,
   "id": "f2d6a048",
   "metadata": {},
   "outputs": [],
   "source": [
    "def economy_rate(bowlers):\n",
    "    \"\"\"\n",
    "    This function will return the economy rate of bowlers data passed through function.\n",
    "    :param bowlers: it is a subset of the 'players' dataframe containing specific bowling players\n",
    "    :return: a float value which represents economy rate of set of players passed initially\n",
    "\n",
    "    >>> print(economy_rate(fast_bowlers))\n",
    "    9.292946530147896\n",
    "    \"\"\"\n",
    "    merged_data = pd.merge(over_details_death, bowlers, how='inner', left_on=['BOWLER_SK'], right_on=['PLAYER_SK'])\n",
    "    pivot_data = pd.pivot_table(merged_data, index=['MatcH_id', 'Innings_No'], columns='Over_id', values='Runs_Scored',\n",
    "                                aggfunc='sum', fill_value=0)\n",
    "    total_overs = 0\n",
    "    total_runs = 0\n",
    "    for i in range(0, len(pivot_data)):\n",
    "        for j in pivot_data.values[i]:\n",
    "            total_runs = total_runs + j\n",
    "            if j != 0:\n",
    "                total_overs += 1\n",
    "    economy = total_runs / total_overs\n",
    "    return economy"
   ]
  },
  {
   "cell_type": "code",
   "execution_count": 10,
   "id": "ab71ffea",
   "metadata": {},
   "outputs": [],
   "source": [
    "def bar_plot2(value1, value2, x_axis, y_axis, title):\n",
    "    \"\"\"\n",
    "    This function creates a bar plot after creating a dataframe with the values stored.\n",
    "    :param value1: the label of the first bar\n",
    "    :param value2: the label of the second bar\n",
    "    :param x_axis: the x-axis label\n",
    "    :param y_axis: the y-axis label\n",
    "    :param title: the title of the plot\n",
    "    :return: a plot with the entered parameters\n",
    "    \"\"\"\n",
    "    df_temp = pd.DataFrame({x_axis: [value1, value2], y_axis: [economy_rate(fast_bowlers), economy_rate(slow_bowlers)]})\n",
    "    plt.bar(df_temp[x_axis], height=df_temp[y_axis])\n",
    "    plt.xlabel(x_axis)\n",
    "    plt.ylabel(y_axis)\n",
    "    plt.title(title)\n",
    "    plt.show()"
   ]
  },
  {
   "cell_type": "code",
   "execution_count": 11,
   "id": "f3381b80",
   "metadata": {},
   "outputs": [
    {
     "data": {
      "image/png": "[encoded data removed]",
      "text/plain": [
       "<Figure size 432x288 with 1 Axes>"
      ]
     },
     "metadata": {
      "needs_background": "light"
     },
     "output_type": "display_data"
    },
    {
     "name": "stdout",
     "output_type": "stream",
     "text": [
      "The economy rate of fast bowlers is 9.292946530147896 and that for spinners is 8.75784190715182\n"
     ]
    }
   ],
   "source": [
    "bar_plot2('Fast', 'Slow', 'Bowler Type', 'Economy', 'Economy rates with respect to the type of bowler')\n",
    "print(\"The economy rate of fast bowlers is {} and that for spinners is {}\".format(economy_rate(fast_bowlers), economy_rate(slow_bowlers)))"
   ]
  },
  {
   "cell_type": "markdown",
   "id": "b783bebc",
   "metadata": {},
   "source": [
    "### Conclusion:\n",
    "Here we can see that fast bowlers have a higher economy rate as compared to spinners, hence we reject the hypothesis as spinners which have a lower economy rate are more effective. Hence, from the above graph we can see that spinners are more effective as compared to fast bowlers during death overs."
   ]
  },
  {
   "cell_type": "markdown",
   "id": "e55dfffe",
   "metadata": {},
   "source": [
    "## Hypothesis 3: Players aged 35 or more have a lesser impact on the game as compared to younger players."
   ]
  },
  {
   "cell_type": "code",
   "execution_count": 12,
   "id": "6272a39d",
   "metadata": {},
   "outputs": [],
   "source": [
    "def under_35_data(key):\n",
    "    \"\"\"\n",
    "    This function returns dataframe with only those players that have age more than or equal to 35.\n",
    "    :param key: the column from 'overs_details' table that we should use while merging data, it should be in qoutes\n",
    "    :return: a dataframe containing players with age more than or equal to 35\n",
    "\n",
    "    >>> value = under_35_data('Striker_match_SK')\n",
    "    >>> print(value.head()) #doctest: +NORMALIZE_WHITESPACE\n",
    "           MatcH_id  Over_id  Ball_id  ...  Opposit_captain Player_keeper   Opposit_keeper\n",
    "    4    598028       14        1  ...          V Kohli     DH Yagnik  KB Arun Karthik\n",
    "    5    598028       14        3  ...          V Kohli     DH Yagnik  KB Arun Karthik\n",
    "    6    598028       13        1  ...          V Kohli     DH Yagnik  KB Arun Karthik\n",
    "    7    598028       13        4  ...          V Kohli     DH Yagnik  KB Arun Karthik\n",
    "    8    598028       13        5  ...          V Kohli     DH Yagnik  KB Arun Karthik\n",
    "    <BLANKLINE>\n",
    "    [5 rows x 70 columns]\n",
    "    \"\"\"\n",
    "    merged_data = pd.merge(overs_details, players_age, how='inner', left_on=[key],\n",
    "                           right_on=['Player_match_SK'])\n",
    "    final_data = merged_data[merged_data['Age_As_on_match'] >= 35]\n",
    "    return final_data"
   ]
  },
  {
   "cell_type": "code",
   "execution_count": 13,
   "id": "6548a982",
   "metadata": {},
   "outputs": [],
   "source": [
    "age_bat_data = under_35_data('Striker_match_SK')\n",
    "runs_bat = age_bat_data.groupby(['Striker_match_SK'])['Runs_Scored'].sum()"
   ]
  },
  {
   "cell_type": "code",
   "execution_count": 14,
   "id": "93f824cb",
   "metadata": {},
   "outputs": [],
   "source": [
    "def limit_partition(limit, total):\n",
    "    \"\"\"\n",
    "    This function is returns number of players above and below a certain decided limit.\n",
    "    :param limit: the limit which decides the partition between players\n",
    "    :param total: aggregated data which is grouped by key used in the previous function\n",
    "    :return: tuple with number of players that are above and below the limit\n",
    "\n",
    "    >>> print(limit_partition(35, runs))\n",
    "    (285, 904)\n",
    "    \"\"\"\n",
    "    above_limit = 0\n",
    "    below_limit = 0\n",
    "    for i in total:\n",
    "        if i >= limit:\n",
    "            above_limit += 1\n",
    "        else:\n",
    "            below_limit += 1\n",
    "    return above_limit, below_limit"
   ]
  },
  {
   "cell_type": "code",
   "execution_count": 15,
   "id": "0e1be8d6",
   "metadata": {},
   "outputs": [
    {
     "data": {
      "image/png": "[encoded data removed]",
      "text/plain": [
       "<Figure size 432x288 with 1 Axes>"
      ]
     },
     "metadata": {
      "needs_background": "light"
     },
     "output_type": "display_data"
    }
   ],
   "source": [
    "hypo_3_1 = pd.DataFrame({'Player Age': ['Above 35 years', 'Below 35 years'], 'Value': limit_partition(35, runs_bat)})\n",
    "plt.bar(hypo_3_1['Player Age'], height=hypo_3_1['Value'])\n",
    "plt.xlabel('Player Age(in yrs.)')\n",
    "plt.ylabel('Value')\n",
    "plt.title('Effect of age on batting performance')\n",
    "plt.show()"
   ]
  },
  {
   "cell_type": "code",
   "execution_count": 16,
   "id": "111544d0",
   "metadata": {},
   "outputs": [],
   "source": [
    "age_bowl_data = under_35_data('Bowler_match_SK')\n",
    "wickets_bowl = age_bowl_data.groupby(['Bowler_match_SK'])['Bowler_Wicket'].sum()"
   ]
  },
  {
   "cell_type": "code",
   "execution_count": 17,
   "id": "dcfab0ad",
   "metadata": {},
   "outputs": [
    {
     "data": {
      "image/png": "[encoded data removed]",
      "text/plain": [
       "<Figure size 432x288 with 1 Axes>"
      ]
     },
     "metadata": {
      "needs_background": "light"
     },
     "output_type": "display_data"
    }
   ],
   "source": [
    "hypo_3_1 = pd.DataFrame({'Player Age': ['Above 35 years', 'Below 35 years'], 'Value': limit_partition(3, wickets_bowl)})\n",
    "plt.bar(hypo_3_1['Player Age'], height=hypo_3_1['Value'])\n",
    "plt.xlabel('Player Age(in yrs.)')\n",
    "plt.ylabel('Value')\n",
    "plt.title('Effect of age on bowling performance')\n",
    "plt.show()"
   ]
  },
  {
   "cell_type": "markdown",
   "id": "c6254b03",
   "metadata": {},
   "source": [
    "## Hypothesis 4: Teams with orange or purple cap holder has a higher chance of winning the tournament. (Orange cap – player with highest runs in the tournament, purple cap – player with highest wickets in the tournament)"
   ]
  },
  {
   "cell_type": "code",
   "execution_count": 18,
   "id": "4bcdaa45",
   "metadata": {},
   "outputs": [],
   "source": [
    "def find_orange_winners(year):\n",
    "    \"\"\"\n",
    "    This function is used to find which team does the orange cap holder belongs to.\n",
    "    :param year: year for which the orange cap winner is to be found\n",
    "    :return: name of the team that the orange cap winner belongs to\n",
    "\n",
    "    >>> print(find_orange_winners(2010))\n",
    "    Mumbai Indians\n",
    "\n",
    "    >>> print(find_orange_winners(2011))\n",
    "    Royal Challengers Bangalore\n",
    "    \"\"\"\n",
    "    season = overs_details[overs_details['Season'] == year]\n",
    "    striker = season.groupby(['StrikerSK'])['Runs_Scored'].sum()\n",
    "    orange_id = striker.idxmax()\n",
    "    most_run = player[player['PLAYER_SK'] == orange_id]['Player_Id']\n",
    "    most_run_index = most_run.values\n",
    "    team_name = players_age[(players_age['Player_Id'] == most_run_index[0]) & (players_age['Season_year'] == year)][\n",
    "        'Player_team'].unique()[0]\n",
    "    return team_name"
   ]
  },
  {
   "cell_type": "code",
   "execution_count": 19,
   "id": "80e62093",
   "metadata": {},
   "outputs": [],
   "source": [
    "def find_purple_winners(year):\n",
    "    \"\"\"\n",
    "    This function is used to find which team does the purple cap holder belongs to.\n",
    "    :param year: year for which the purple cap winner is to be found\n",
    "    :return: name of the team that the purple cap winner belongs to\n",
    "\n",
    "    >>> print(find_purple_winners(2010))\n",
    "    Deccan Chargers\n",
    "\n",
    "    >>> print(find_purple_winners(2011))\n",
    "    Mumbai Indians\n",
    "    \"\"\"\n",
    "    season = overs_details[overs_details['Season'] == year]\n",
    "    bowler = season.groupby(['BOWLER_SK'])['Bowler_Wicket'].sum()\n",
    "    purple_id = bowler.idxmax()\n",
    "    most_wickets = player[player['PLAYER_SK'] == purple_id]['Player_Id']\n",
    "    most_wickets_index = most_wickets.values\n",
    "    team_name = players_age[(players_age['Player_Id'] == most_wickets_index[0]) & (players_age['Season_year'] == year)][\n",
    "        'Player_team'].unique()[0]\n",
    "    return team_name"
   ]
  },
  {
   "cell_type": "code",
   "execution_count": 20,
   "id": "97120235",
   "metadata": {},
   "outputs": [],
   "source": [
    "def hypothesis_4(from_year, to_year):\n",
    "    \"\"\"\n",
    "    This function implements tasks to analyse our hypothesis no.5\n",
    "    :param from_year: inclusive year from which you want to analyze hypothesis 5\n",
    "    :param to_year: excluding year to which you want to analyze hypothesis 5\n",
    "    :return: a tuple containing percentage of times orange cap holder was part of the winning team and percentage of\n",
    "    times purple cap holder was part of the winning team\n",
    "\n",
    "    >>> print(hypothesis_4(2008, 2018))\n",
    "    (10.0, 30.0)\n",
    "    \"\"\"\n",
    "    orange = 0\n",
    "    purple = 0\n",
    "    year = 0\n",
    "    for i in range(from_year, to_year):\n",
    "        most_runs = find_orange_winners(i)\n",
    "        most_wickets = find_purple_winners(i)\n",
    "        winners_values = winners[winners['season_year'] == i]['Team']\n",
    "        if most_runs == winners_values.values[0]:\n",
    "            orange += 1\n",
    "        elif most_wickets == winners_values.values[0]:\n",
    "            purple += 1\n",
    "        year += 1\n",
    "    orange_ratio = (orange / year * 100)\n",
    "    purple_ratio = (purple / year * 100)\n",
    "    return orange_ratio, purple_ratio"
   ]
  },
  {
   "cell_type": "code",
   "execution_count": 21,
   "id": "ced61303",
   "metadata": {},
   "outputs": [],
   "source": [
    "total_wins = hypothesis_4(2008, 2018)"
   ]
  },
  {
   "cell_type": "code",
   "execution_count": 22,
   "id": "e0b0ae5c",
   "metadata": {},
   "outputs": [],
   "source": [
    "def pie_chart(value):\n",
    "    \"\"\"\n",
    "    This function is used to create a pie chart based on the ration provided\n",
    "    :param value: the percentage value using which we want to divide the pie chart into two parts\n",
    "    :return: a pie chart with the mentioned division into two parts\n",
    "    \"\"\"\n",
    "    fig1, ax1 = plt.subplots()\n",
    "    labels = ['Wins', 'Losses']\n",
    "    sizes = [value, 100 - value]\n",
    "    explode = (0.1, 0)\n",
    "    ax1.pie(sizes, explode=explode, labels=labels, autopct='%1.1f%%',\n",
    "            shadow=True, startangle=90)\n",
    "    ax1.axis('equal')  # Equal aspect ratio ensures that pie is drawn as a circle.\n",
    "    plt.title('Win percentage')\n",
    "    plt.show()"
   ]
  },
  {
   "cell_type": "code",
   "execution_count": 23,
   "id": "321771ab",
   "metadata": {},
   "outputs": [
    {
     "data": {
      "image/png": "[encoded data removed]",
      "text/plain": [
       "<Figure size 432x288 with 1 Axes>"
      ]
     },
     "metadata": {},
     "output_type": "display_data"
    }
   ],
   "source": [
    "pie_chart(total_wins[0])"
   ]
  },
  {
   "cell_type": "code",
   "execution_count": 24,
   "id": "64f3f19e",
   "metadata": {},
   "outputs": [
    {
     "data": {
      "image/png": "[encoded data removed]",
      "text/plain": [
       "<Figure size 432x288 with 1 Axes>"
      ]
     },
     "metadata": {},
     "output_type": "display_data"
    }
   ],
   "source": [
    "pie_chart(total_wins[1])"
   ]
  },
  {
   "cell_type": "code",
   "execution_count": null,
   "id": "659cc15a",
   "metadata": {},
   "outputs": [],
   "source": []
  }
 ],
 "metadata": {
  "kernelspec": {
   "display_name": "Python 3 (ipykernel)",
   "language": "python",
   "name": "python3"
  },
  "language_info": {
   "codemirror_mode": {
    "name": "ipython",
    "version": 3
   },
   "file_extension": ".py",
   "mimetype": "text/x-python",
   "name": "python",
   "nbconvert_exporter": "python",
   "pygments_lexer": "ipython3",
   "version": "3.7.10"
  }
 },
 "nbformat": 4,
 "nbformat_minor": 5
}
