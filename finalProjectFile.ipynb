{
 "cells": [
  {
   "cell_type": "markdown",
   "id": "467f20e6",
   "metadata": {},
   "source": [
    "# FINAL PROJECT"
   ]
  },
  {
   "cell_type": "markdown",
   "id": "1fc81977",
   "metadata": {},
   "source": [
    "We have used jupyter notebook to write functions and further analyze our hypothesis."
   ]
  },
  {
   "cell_type": "markdown",
   "id": "6010a03f",
   "metadata": {},
   "source": [
    "Importing necessary libraries"
   ]
  },
  {
   "cell_type": "code",
   "execution_count": 1,
   "id": "4f21194c",
   "metadata": {},
   "outputs": [],
   "source": [
    "import pandas as pd\n",
    "import seaborn as sn\n",
    "import matplotlib.pyplot as plt\n",
    "import numpy as np"
   ]
  },
  {
   "cell_type": "markdown",
   "id": "a76aeb2b",
   "metadata": {},
   "source": [
    "As we go through our code, we store our tables into dataframes as and when required instead of loading those all at once."
   ]
  },
  {
   "cell_type": "code",
   "execution_count": 2,
   "id": "f6afceca",
   "metadata": {},
   "outputs": [],
   "source": [
    "match_details = pd.read_csv('Match.csv')\n",
    "match_details = match_details.dropna(subset=['Toss_Winner', 'match_winner'])\n",
    "\n",
    "overs_details = pd.read_csv('Ball_By_Ball.csv')\n",
    "over_details_death = overs_details[overs_details['Over_id'] > 16]\n",
    "\n",
    "player = pd.read_csv('Player.csv', encoding='unicode_escape')\n",
    "\n",
    "team_details = pd.read_csv('Team.csv', encoding='unicode_escape')\n",
    "\n",
    "players_age = pd.read_csv('Player_match.csv', encoding='unicode_escape')\n",
    "\n",
    "winners = pd.read_csv('Winners.csv')"
   ]
  },
  {
   "cell_type": "markdown",
   "id": "a9bf8bc1",
   "metadata": {},
   "source": [
    "## Hypothesis 1: Event of winning the toss is positively correlated with the event of a team winning the game"
   ]
  },
  {
   "cell_type": "code",
   "execution_count": 3,
   "id": "b4805f22",
   "metadata": {},
   "outputs": [],
   "source": [
    "def match_results(df):\n",
    "    \"\"\"\n",
    "    This function return number of wins and loses of the team that won the toss at the beginning of match.\n",
    "    :param df: the dataframe that contains 'toss_winner' and 'match_winner' columns\n",
    "    :return: a tuple containing number of wins and losses of team winning the toss\n",
    "\n",
    "    >>> print(match_results(match_details))\n",
    "    (324, 309)\n",
    "    \"\"\"\n",
    "    won = 0\n",
    "    for index, row in df.iterrows():\n",
    "        if row['Toss_Winner'] == row['match_winner']:\n",
    "            won += 1\n",
    "\n",
    "    loss = len(match_details) - won\n",
    "    return won, loss"
   ]
  },
  {
   "cell_type": "code",
   "execution_count": 4,
   "id": "4c690153",
   "metadata": {},
   "outputs": [
    {
     "data": {
      "text/plain": [
       "(324, 309)"
      ]
     },
     "execution_count": 4,
     "metadata": {},
     "output_type": "execute_result"
    }
   ],
   "source": [
    "match_results(match_details)"
   ]
  },
  {
   "cell_type": "code",
   "execution_count": 5,
   "id": "f13fd137",
   "metadata": {},
   "outputs": [],
   "source": [
    "def bar_plot1(value1, value2, x_axis, y_axis, title):\n",
    "    \"\"\"\n",
    "    This function creates a bar plot after creating a dataframe with the values stored.\n",
    "    :param value1: the label of the first bar\n",
    "    :param value2: the label of the second bar\n",
    "    :param x_axis: the x-axis label\n",
    "    :param y_axis: the y-axis label\n",
    "    :param title: the title of the plot\n",
    "    :return: a plot with the entered parameters\n",
    "    \"\"\"\n",
    "    df_temp = pd.DataFrame({x_axis: [value1, value2], y_axis: match_results(match_details)})\n",
    "    plt.bar(df_temp[x_axis], height=df_temp[y_axis])\n",
    "    plt.xlabel(x_axis)\n",
    "    plt.ylabel(y_axis)\n",
    "    plt.title(title)\n",
    "    plt.show()"
   ]
  },
  {
   "cell_type": "code",
   "execution_count": 6,
   "id": "572ce215",
   "metadata": {},
   "outputs": [
    {
     "data": {
      "image/png": "[encoded data removed]",
      "text/plain": [
       "<Figure size 432x288 with 1 Axes>"
      ]
     },
     "metadata": {
      "needs_background": "light"
     },
     "output_type": "display_data"
    }
   ],
   "source": [
    "bar_plot1('won', 'lost', 'Match results', 'No. of matches', 'Match results with respect to toss outcome')"
   ]
  },
  {
   "cell_type": "markdown",
   "id": "ac0cfcf4",
   "metadata": {},
   "source": [
    "### Conclusion:\n",
    "From the given plot we can see that the bar \"Won\" which depicts the number of times team has won the match after winning the toss is similar to the bar \"Lost\" which depicts the number of times team has won the match after lossing the toss. Hence, we see that there is no such trend and hence we reject the hypothesis."
   ]
  },
  {
   "cell_type": "markdown",
   "id": "c0ef9691",
   "metadata": {},
   "source": [
    "## Hypothesis 2: Fast bowlers are more effective than spinners during death overs. (Death over – Last 4 overs of the innings)"
   ]
  },
  {
   "cell_type": "code",
   "execution_count": 7,
   "id": "1d9511ab",
   "metadata": {},
   "outputs": [],
   "source": [
    "fast_bowlers = player[(player['Bowling_skill']=='Right-arm medium')|(player['Bowling_skill']=='Right-arm fast-medium')|(player['Bowling_skill']=='Right-arm medium-fast')|(player['Bowling_skill']=='Left-arm fast-medium')|(player['Bowling_skill']=='Left-arm medium-fast')|(player['Bowling_skill']=='Right-arm fast')|(player['Bowling_skill']=='Left-arm fast')|(player['Bowling_skill']=='Left-arm medium')|(player['Bowling_skill']=='Right-arm medium fast')|(player['Bowling_skill']=='\\xa0Right-arm fast-medium')|(player['Bowling_skill']=='\\xa0Right-arm medium-fast')|(player['Bowling_skill']=='\\xa0Left-arm fast')]"
   ]
  },
  {
   "cell_type": "code",
   "execution_count": 8,
   "id": "2e437b39",
   "metadata": {},
   "outputs": [],
   "source": [
    "slow_bowlers = player[(player['Bowling_skill']=='Right-arm offbreak')|(player['Bowling_skill']=='Legbreak googly')|(player['Bowling_skill']=='Slow left-arm orthodox')|(player['Bowling_skill']=='Slow left-arm chinaman')|(player['Bowling_skill']=='Legbreak')|(player['Bowling_skill']=='Right-arm bowler')|(player['Bowling_skill']=='\\xa0Legbreak')|(player['Bowling_skill']=='\\xa0Right-arm offbreak')]"
   ]
  },
  {
   "cell_type": "code",
   "execution_count": 9,
   "id": "f2d6a048",
   "metadata": {},
   "outputs": [],
   "source": [
    "def economy_rate(bowlers):\n",
    "    \"\"\"\n",
    "    This function will return the economy rate of bowlers data passed through function.\n",
    "    :param bowlers: it is a subset of the 'players' dataframe containing specific bowling players\n",
    "    :return: a float value which represents economy rate of set of players passed initially\n",
    "\n",
    "    >>> print(economy_rate(fast_bowlers))\n",
    "    9.292946530147896\n",
    "    \"\"\"\n",
    "    merged_data = pd.merge(over_details_death, bowlers, how='inner', left_on=['BOWLER_SK'], right_on=['PLAYER_SK'])\n",
    "    pivot_data = pd.pivot_table(merged_data, index=['MatcH_id', 'Innings_No'], columns='Over_id', values='Runs_Scored',\n",
    "                                aggfunc='sum', fill_value=0)\n",
    "    total_overs = 0\n",
    "    total_runs = 0\n",
    "    for i in range(0, len(pivot_data)):\n",
    "        for j in pivot_data.values[i]:\n",
    "            total_runs = total_runs + j\n",
    "            if j != 0:\n",
    "                total_overs += 1\n",
    "    economy = total_runs / total_overs\n",
    "    return economy"
   ]
  },
  {
   "cell_type": "code",
   "execution_count": 10,
   "id": "ab71ffea",
   "metadata": {},
   "outputs": [],
   "source": [
    "def bar_plot2(value1, value2, x_axis, y_axis, title):\n",
    "    \"\"\"\n",
    "    This function creates a bar plot after creating a dataframe with the values stored.\n",
    "    :param value1: the label of the first bar\n",
    "    :param value2: the label of the second bar\n",
    "    :param x_axis: the x-axis label\n",
    "    :param y_axis: the y-axis label\n",
    "    :param title: the title of the plot\n",
    "    :return: a plot with the entered parameters\n",
    "    \"\"\"\n",
    "    df_temp = pd.DataFrame({x_axis: [value1, value2], y_axis: [economy_rate(fast_bowlers), economy_rate(slow_bowlers)]})\n",
    "    plt.bar(df_temp[x_axis], height=df_temp[y_axis])\n",
    "    plt.xlabel(x_axis)\n",
    "    plt.ylabel(y_axis)\n",
    "    plt.title(title)\n",
    "    plt.show()"
   ]
  },
  {
   "cell_type": "code",
   "execution_count": 11,
   "id": "f3381b80",
   "metadata": {},
   "outputs": [
    {
     "data": {
      "image/png": "[encoded data removed]",
      "text/plain": [
       "<Figure size 432x288 with 1 Axes>"
      ]
     },
     "metadata": {
      "needs_background": "light"
     },
     "output_type": "display_data"
    },
    {
     "name": "stdout",
     "output_type": "stream",
     "text": [
      "The economy rate of fast bowlers is 9.292946530147896 and that for spinners is 8.75784190715182\n"
     ]
    }
   ],
   "source": [
    "bar_plot2('Fast', 'Slow', 'Bowler Type', 'Economy', 'Economy rates with respect to the type of bowler')\n",
    "print(\"The economy rate of fast bowlers is {} and that for spinners is {}\".format(economy_rate(fast_bowlers), economy_rate(slow_bowlers)))"
   ]
  },
  {
   "cell_type": "markdown",
   "id": "b783bebc",
   "metadata": {},
   "source": [
    "### Conclusion:\n",
    "Here we can see that fast bowlers have a higher economy rate as compared to spinners, hence we reject the hypothesis as spinners which have a lower economy rate are more effective. Hence, from the above graph we can see that spinners are more effective as compared to fast bowlers during death overs."
   ]
  },
  {
   "cell_type": "markdown",
   "id": "e55dfffe",
   "metadata": {},
   "source": [
    "## Hypothesis 3: Players aged 35 or more have a lesser impact on the game as compared to younger players."
   ]
  },
  {
   "cell_type": "markdown",
   "id": "08ce131a",
   "metadata": {},
   "source": [
    "For Hypothesis 3, first we will import the the \"Player_match.csv\" dataset as and store it in a dataframe called \"players_age\". We are doing this as we need player's age on the day of the match. We are also going to use \"overs_details\" table which we used above. The over details data set was imported from the \"ball_by_ball.csv\" file."
   ]
  },
  {
   "cell_type": "code",
   "execution_count": 12,
   "id": "6272a39d",
   "metadata": {},
   "outputs": [],
   "source": [
    "def over_35_data(key):\n",
    "    \"\"\"\n",
    "    This function returns dataframe with only those players that have age more than or equal to 35.\n",
    "    :param key: the column from 'overs_details' table that we should use while merging data, it should be in qoutes\n",
    "    :return: a dataframe containing players with age more than or equal to 35\n",
    "\n",
    "    >>> value = over_35_data('Striker_match_SK')\n",
    "    >>> print(value.head()) #doctest: +NORMALIZE_WHITESPACE\n",
    "           MatcH_id  Over_id  Ball_id  ...  Opposit_captain Player_keeper   Opposit_keeper\n",
    "    4    598028       14        1  ...          V Kohli     DH Yagnik  KB Arun Karthik\n",
    "    5    598028       14        3  ...          V Kohli     DH Yagnik  KB Arun Karthik\n",
    "    6    598028       13        1  ...          V Kohli     DH Yagnik  KB Arun Karthik\n",
    "    7    598028       13        4  ...          V Kohli     DH Yagnik  KB Arun Karthik\n",
    "    8    598028       13        5  ...          V Kohli     DH Yagnik  KB Arun Karthik\n",
    "    <BLANKLINE>\n",
    "    [5 rows x 70 columns]\n",
    "    \"\"\"\n",
    "    merged_data = pd.merge(overs_details, players_age, how='inner', left_on=[key],\n",
    "                           right_on=['Player_match_SK'])\n",
    "    final_data = merged_data[merged_data['Age_As_on_match'] >= 35]\n",
    "    return final_data"
   ]
  },
  {
   "cell_type": "markdown",
   "id": "9a257b2f",
   "metadata": {},
   "source": [
    "Now we will check for the age of the player on the day of the match. We are storing on this players right now who are aged 35 years and above and we will do the sum of the runs scored individually by each player greater than 35 years in a particular match."
   ]
  },
  {
   "cell_type": "code",
   "execution_count": 13,
   "id": "6548a982",
   "metadata": {},
   "outputs": [],
   "source": [
    "age_bat_data = over_35_data('Striker_match_SK')\n",
    "runs_bat = age_bat_data.groupby(['Striker_match_SK'])['Runs_Scored'].sum()"
   ]
  },
  {
   "cell_type": "code",
   "execution_count": 14,
   "id": "93f824cb",
   "metadata": {},
   "outputs": [],
   "source": [
    "def limit_partition(limit, total):\n",
    "    \"\"\"\n",
    "    This function is returns number of players above and below a certain decided limit.\n",
    "    :param limit: the limit which decides the partition between players\n",
    "    :param total: aggregated data which is grouped by key used in the previous function\n",
    "    :return: tuple with number of players that are above and below the limit\n",
    "\n",
    "    >>> print(limit_partition(35, runs))\n",
    "    (285, 904)\n",
    "    \"\"\"\n",
    "    above_limit = 0\n",
    "    below_limit = 0\n",
    "    for i in total:\n",
    "        if i >= limit:\n",
    "            above_limit += 1\n",
    "        else:\n",
    "            below_limit += 1\n",
    "    return above_limit, below_limit"
   ]
  },
  {
   "cell_type": "markdown",
   "id": "b492e254",
   "metadata": {},
   "source": [
    "We see that there 1189 instances when a player aged 35 and more has played a match. For the purpose of this project we are keeping the threshold for a good performance of a batsman as 35 runs."
   ]
  },
  {
   "cell_type": "code",
   "execution_count": 15,
   "id": "0e1be8d6",
   "metadata": {},
   "outputs": [
    {
     "data": {
      "image/png": "[encoded data removed]",
      "text/plain": [
       "<Figure size 432x288 with 1 Axes>"
      ]
     },
     "metadata": {
      "needs_background": "light"
     },
     "output_type": "display_data"
    }
   ],
   "source": [
    "hypo_3_1 = pd.DataFrame({'Player Age': ['Above 35 years', 'Below 35 years'], 'Value': limit_partition(35, runs_bat)})\n",
    "plt.bar(hypo_3_1['Player Age'], height=hypo_3_1['Value'])\n",
    "plt.xlabel('Player Age(in yrs.)')\n",
    "plt.ylabel('Value')\n",
    "plt.title('Effect of age on batting performance')\n",
    "plt.show()"
   ]
  },
  {
   "cell_type": "markdown",
   "id": "443537a4",
   "metadata": {},
   "source": [
    "Here we see that 285 players were aged 35 or more and scored more than 35 runs in a match. "
   ]
  },
  {
   "cell_type": "markdown",
   "id": "05e9ad71",
   "metadata": {},
   "source": [
    "### From the above bar plot, we can see that batting performance is low for players aged greater than 35 years. We have determined the batting performance if they scoring 35 runs or more in an innings."
   ]
  },
  {
   "cell_type": "markdown",
   "id": "a8e9fb65",
   "metadata": {},
   "source": [
    "Now similar to the batsman data, we will create a bowler data. Here we are joining Bowler_match_SK to Player_match_SK. "
   ]
  },
  {
   "cell_type": "code",
   "execution_count": 16,
   "id": "111544d0",
   "metadata": {},
   "outputs": [],
   "source": [
    "age_bowl_data = over_35_data('Bowler_match_SK')\n",
    "wickets_bowl = age_bowl_data.groupby(['Bowler_match_SK'])['Bowler_Wicket'].sum()"
   ]
  },
  {
   "cell_type": "markdown",
   "id": "a12cfbb9",
   "metadata": {},
   "source": [
    "There are 819 instances of bowler being older than 35 years on the day of the match. There are 64 players who are aged 35 and above and have taken 3+ wickets.\n",
    "There are 755 players who are aged 35 and above and have taken less than 3 wickets."
   ]
  },
  {
   "cell_type": "code",
   "execution_count": 17,
   "id": "dcfab0ad",
   "metadata": {},
   "outputs": [
    {
     "data": {
      "image/png": "[encoded data removed]",
      "text/plain": [
       "<Figure size 432x288 with 1 Axes>"
      ]
     },
     "metadata": {
      "needs_background": "light"
     },
     "output_type": "display_data"
    }
   ],
   "source": [
    "hypo_3_1 = pd.DataFrame({'Player Age': ['Above 35 years', 'Below 35 years'], 'Value': limit_partition(3, wickets_bowl)})\n",
    "plt.bar(hypo_3_1['Player Age'], height=hypo_3_1['Value'])\n",
    "plt.xlabel('Player Age(in yrs.)')\n",
    "plt.ylabel('Value')\n",
    "plt.title('Effect of age on bowling performance')\n",
    "plt.show()"
   ]
  },
  {
   "cell_type": "markdown",
   "id": "732ae952",
   "metadata": {},
   "source": [
    "### Thus, in this bar plot too we can see that bowling performance decreases as age becomes 35 and above."
   ]
  },
  {
   "cell_type": "markdown",
   "id": "60bddb87",
   "metadata": {},
   "source": [
    "## Thus, from both bar plots we can conclude that batting performance and bowling performance becomes worse once a player aged 35 years and above. Thus, we accept hypothesis 3. Hence we prove that Players aged 35 or more have a lesser impact on the game as compared to younger players."
   ]
  },
  {
   "cell_type": "markdown",
   "id": "c6254b03",
   "metadata": {},
   "source": [
    "## Hypothesis 4: Teams with orange or purple cap holder has a higher chance of winning the tournament. (Orange cap – player with highest runs in the tournament, purple cap – player with highest wickets in the tournament)"
   ]
  },
  {
   "cell_type": "markdown",
   "id": "2971c7b7",
   "metadata": {},
   "source": [
    "To analyze the number of runs and number of wickets we will be using the overs_details table. We need the Player details as well as team details data here thus we import Player.csv and Team.csv. We define the function to find orange cap and purple cap holders. The Orange cap holder is the maximum runs scored in each season and purple cap is most wickets taken in each season."
   ]
  },
  {
   "cell_type": "code",
   "execution_count": 18,
   "id": "4bcdaa45",
   "metadata": {},
   "outputs": [],
   "source": [
    "def find_orange_winners(year):\n",
    "    \"\"\"\n",
    "    This function is used to find which team does the orange cap holder belongs to.\n",
    "    :param year: year for which the orange cap winner is to be found\n",
    "    :return: name of the team that the orange cap winner belongs to\n",
    "\n",
    "    >>> print(find_orange_winners(2010))\n",
    "    Mumbai Indians\n",
    "\n",
    "    >>> print(find_orange_winners(2011))\n",
    "    Royal Challengers Bangalore\n",
    "    \"\"\"\n",
    "    season = overs_details[overs_details['Season'] == year]\n",
    "    striker = season.groupby(['StrikerSK'])['Runs_Scored'].sum()\n",
    "    orange_id = striker.idxmax()\n",
    "    most_run = player[player['PLAYER_SK'] == orange_id]['Player_Id']\n",
    "    most_run_index = most_run.values\n",
    "    team_name = players_age[(players_age['Player_Id'] == most_run_index[0]) & (players_age['Season_year'] == year)][\n",
    "        'Player_team'].unique()[0]\n",
    "    return team_name"
   ]
  },
  {
   "cell_type": "code",
   "execution_count": 19,
   "id": "80e62093",
   "metadata": {},
   "outputs": [],
   "source": [
    "def find_purple_winners(year):\n",
    "    \"\"\"\n",
    "    This function is used to find which team does the purple cap holder belongs to.\n",
    "    :param year: year for which the purple cap winner is to be found\n",
    "    :return: name of the team that the purple cap winner belongs to\n",
    "\n",
    "    >>> print(find_purple_winners(2010))\n",
    "    Deccan Chargers\n",
    "\n",
    "    >>> print(find_purple_winners(2011))\n",
    "    Mumbai Indians\n",
    "    \"\"\"\n",
    "    season = overs_details[overs_details['Season'] == year]\n",
    "    bowler = season.groupby(['BOWLER_SK'])['Bowler_Wicket'].sum()\n",
    "    purple_id = bowler.idxmax()\n",
    "    most_wickets = player[player['PLAYER_SK'] == purple_id]['Player_Id']\n",
    "    most_wickets_index = most_wickets.values\n",
    "    team_name = players_age[(players_age['Player_Id'] == most_wickets_index[0]) & (players_age['Season_year'] == year)][\n",
    "        'Player_team'].unique()[0]\n",
    "    return team_name"
   ]
  },
  {
   "cell_type": "markdown",
   "id": "8fad9b2d",
   "metadata": {},
   "source": [
    "We will also import the IPL winners for all the years. We will need to import the winners.csv file as we need to check if the orange cap and purple cap holder was from the winning team."
   ]
  },
  {
   "cell_type": "code",
   "execution_count": 20,
   "id": "97120235",
   "metadata": {},
   "outputs": [],
   "source": [
    "def hypothesis_4(from_year, to_year):\n",
    "    \"\"\"\n",
    "    This function implements tasks to analyse our hypothesis no.5\n",
    "    :param from_year: inclusive year from which you want to analyze hypothesis 5\n",
    "    :param to_year: excluding year to which you want to analyze hypothesis 5\n",
    "    :return: a tuple containing percentage of times orange cap holder was part of the winning team and percentage of\n",
    "    times purple cap holder was part of the winning team\n",
    "\n",
    "    >>> print(hypothesis_4(2008, 2018))\n",
    "    (10.0, 30.0)\n",
    "    \"\"\"\n",
    "    orange = 0\n",
    "    purple = 0\n",
    "    year = 0\n",
    "    for i in range(from_year, to_year):\n",
    "        most_runs = find_orange_winners(i)\n",
    "        most_wickets = find_purple_winners(i)\n",
    "        winners_values = winners[winners['season_year'] == i]['Team']\n",
    "        if most_runs == winners_values.values[0]:\n",
    "            orange += 1\n",
    "        elif most_wickets == winners_values.values[0]:\n",
    "            purple += 1\n",
    "        year += 1\n",
    "    orange_ratio = (orange / year * 100)\n",
    "    purple_ratio = (purple / year * 100)\n",
    "    return orange_ratio, purple_ratio"
   ]
  },
  {
   "cell_type": "code",
   "execution_count": 21,
   "id": "ced61303",
   "metadata": {},
   "outputs": [],
   "source": [
    "total_wins = hypothesis_4(2008, 2018)"
   ]
  },
  {
   "cell_type": "code",
   "execution_count": 22,
   "id": "e0b0ae5c",
   "metadata": {},
   "outputs": [],
   "source": [
    "def pie_chart(value):\n",
    "    \"\"\"\n",
    "    This function is used to create a pie chart based on the ration provided\n",
    "    :param value: the percentage value using which we want to divide the pie chart into two parts\n",
    "    :return: a pie chart with the mentioned division into two parts\n",
    "    \"\"\"\n",
    "    fig1, ax1 = plt.subplots()\n",
    "    labels = ['Wins', 'Losses']\n",
    "    sizes = [value, 100 - value]\n",
    "    explode = (0.1, 0)\n",
    "    ax1.pie(sizes, explode=explode, labels=labels, autopct='%1.1f%%',\n",
    "            shadow=True, startangle=90)\n",
    "    ax1.axis('equal')  # Equal aspect ratio ensures that pie is drawn as a circle.\n",
    "    plt.title('Win percentage')\n",
    "    plt.show()"
   ]
  },
  {
   "cell_type": "code",
   "execution_count": 23,
   "id": "321771ab",
   "metadata": {},
   "outputs": [
    {
     "data": {
      "image/png": "[encoded data removed]",
      "text/plain": [
       "<Figure size 432x288 with 1 Axes>"
      ]
     },
     "metadata": {},
     "output_type": "display_data"
    }
   ],
   "source": [
    "pie_chart(total_wins[0])"
   ]
  },
  {
   "cell_type": "markdown",
   "id": "75d072de",
   "metadata": {},
   "source": [
    "Orange cap holder wins the tournament only 10% out of all the posibilities."
   ]
  },
  {
   "cell_type": "code",
   "execution_count": 24,
   "id": "64f3f19e",
   "metadata": {},
   "outputs": [
    {
     "data": {
      "image/png": "[encoded data removed]",
      "text/plain": [
       "<Figure size 432x288 with 1 Axes>"
      ]
     },
     "metadata": {},
     "output_type": "display_data"
    }
   ],
   "source": [
    "pie_chart(total_wins[1])"
   ]
  },
  {
   "cell_type": "markdown",
   "id": "8d01a107",
   "metadata": {},
   "source": [
    "Purple Cap holder only wins the tournament 30% of the time."
   ]
  },
  {
   "cell_type": "markdown",
   "id": "8bcfb061",
   "metadata": {},
   "source": [
    "### For Orange and Purple Cap, the cap holder is very rarely from the winnings team. In both these pie-charts, we can conclude that the orange cap and purple cap winner is not from the winning team. Thus we reject the hypothesis. We have proved that Teams with Orange Cap or Purple Cap holders don't have a higher chance of winning the tournament."
   ]
  },
  {
   "cell_type": "markdown",
   "id": "f5f7d95d",
   "metadata": {},
   "source": [
    "## Future Scope:"
   ]
  },
  {
   "cell_type": "markdown",
   "id": "647a831b",
   "metadata": {},
   "source": [
    "Due to few constraints we were not able to execute the following hypothesis:\n",
    "\n",
    "1. If the top 3 players score more than 60 runs in powerplay (powerplay means the first 6 overs) or bowlers take 3 or more wickets inside the powerplay then the team has a 75% chance of winning the game.\n",
    "\n",
    "2. Players that sell for a higher price in the auction do not perform well in the tournament.\n",
    "\n",
    "We have also imported three more tables from iplt20.com. These were Auction.csv, Batsman.csv, and Bowler.csv. These can be used for further analysis for the these two hypothesis."
   ]
  }
 ],
 "metadata": {
  "kernelspec": {
   "display_name": "Python 3 (ipykernel)",
   "language": "python",
   "name": "python3"
  },
  "language_info": {
   "codemirror_mode": {
    "name": "ipython",
    "version": 3
   },
   "file_extension": ".py",
   "mimetype": "text/x-python",
   "name": "python",
   "nbconvert_exporter": "python",
   "pygments_lexer": "ipython3",
   "version": "3.8.5"
  }
 },
 "nbformat": 4,
 "nbformat_minor": 5
}
